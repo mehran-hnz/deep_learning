{
 "cells": [
  {
   "cell_type": "markdown",
   "id": "7c6788aef474ca12",
   "metadata": {
    "collapsed": false,
    "id": "7c6788aef474ca12"
   },
   "source": [
    "# Text Generation with Recurrent Neural Networks (RNNs)\n",
    "\n",
    "In this assignment, you'll build upon your understanding of RNNs and Keras to develop a word-level text generation model.  Your goal is to train a model that learns the stylistic nuances of a chosen corpus and generates new, original text segments that echo the source material's essence.\n",
    "\n",
    "**Datasets**\n",
    "\n",
    "We've provided several intriguing text corpora to get you started:\n",
    "\n",
    "*   Mark Twain\n",
    "*   Charles Dickens\n",
    "*   William Shakespeare\n",
    "\n",
    "**Feel free to explore!**  If you have a particular passion for another author, genre, or a specific text, you're encouraged to use your own dataset of raw text."
   ]
  },
  {
   "cell_type": "code",
   "execution_count": 1,
   "id": "2d0bfedcfe52aedc",
   "metadata": {
    "colab": {
     "base_uri": "https://localhost:8080/"
    },
    "id": "2d0bfedcfe52aedc",
    "outputId": "eef898b3-cf85-43d1-9715-30194b9932d3"
   },
   "outputs": [
    {
     "name": "stdout",
     "output_type": "stream",
     "text": [
      "No GPU available. If you're on Colab, go to Runtime > Change runtime and select a GPU hardware accelerator.\n"
     ]
    }
   ],
   "source": [
    "# Check if we have a GPU available\n",
    "import tensorflow as tf\n",
    "if tf.test.gpu_device_name():\n",
    "    print('Default GPU Device: {}'.format(tf.test.gpu_device_name()))\n",
    "else:\n",
    "    print(\"No GPU available. If you're on Colab, go to Runtime > Change runtime and select a GPU hardware accelerator.\")"
   ]
  },
  {
   "cell_type": "code",
   "execution_count": 8,
   "id": "9c28c497f620b775",
   "metadata": {
    "ExecuteTime": {
     "end_time": "2024-02-08T21:30:44.959803Z",
     "start_time": "2024-02-08T21:30:44.701343Z"
    },
    "id": "9c28c497f620b775"
   },
   "outputs": [],
   "source": [
    "def download_file(url, file_path):\n",
    "    import requests\n",
    "    r = requests.get(url)\n",
    "    with open(file_path, 'wb') as f:\n",
    "        f.write(r.content)\n",
    "\n",
    "def load_dataset(file_path, fraction=1.0):\n",
    "    with open(file_path, 'r', encoding='utf-8') as f:\n",
    "        raw_text = f.read()\n",
    "    return raw_text[:int(fraction * len(raw_text))]\n",
    "\n",
    "dataset = 'mark_twain.txt' # Other options are mark_twain.txt, charles_dickens.txt\n",
    "\n",
    "download_file(f'https://raw.githubusercontent.com/UofT-DSI/deep_learning/refs/heads/main/02_activities/assignments/downloaded_books/' + dataset, dataset)\n",
    "\n",
    "# Load chosen dataset. NOTE: If Colab is running out of memory, change the `fraction` parameter to a value between 0 and 1 to load less data.\n",
    "text = load_dataset(dataset, fraction=0.1)"
   ]
  },
  {
   "cell_type": "markdown",
   "id": "dab51c764031e606",
   "metadata": {
    "collapsed": false,
    "id": "dab51c764031e606"
   },
   "source": [
    "# 1. Data Preparation (Complete or Incomplete)\n",
    "\n",
    "Before we can begin training an RNN model, we need to prepare the dataset. This involves cleaning the text, tokenizing words, and creating sequences the model can be trained on.\n",
    "\n",
    "## 1.1 Data Exploration\n",
    "\n",
    "Print the first 1000 characters of the dataset. Report the dataset's size and the number of unique characters it contains."
   ]
  },
  {
   "cell_type": "code",
   "execution_count": 15,
   "id": "BunkZmdkl0Wn",
   "metadata": {
    "colab": {
     "base_uri": "https://localhost:8080/"
    },
    "id": "BunkZmdkl0Wn",
    "outputId": "e429a49a-9334-4484-bd6b-2ce40c8298c1"
   },
   "outputs": [
    {
     "name": "stdout",
     "output_type": "stream",
     "text": [
      "First 1000 characters of the dataset:\n",
      "________________________________________________________________________________\n",
      "\n",
      "The Project Gutenberg EBook of The Prince and The Pauper, Complete by\n",
      "Mark Twain (Samuel Clemens)\n",
      "\n",
      "This eBook is for the use of anyone anywhere at no cost and with almost\n",
      "no restrictions whatsoever. You may copy it, give it away or re-use\n",
      "it under the terms of the Project Gutenberg License included with this\n",
      "eBook or online at www.gutenberg.org\n",
      "\n",
      "Title: The Prince and The Pauper, Complete\n",
      "\n",
      "Author: Mark Twain (Samuel Clemens)\n",
      "\n",
      "Release Date: August 20, 2006 [EBook #1837]\n",
      "Last Updated: February 19, 2018\n",
      "\n",
      "Language: English\n",
      "\n",
      "Character set encoding: UTF-8\n",
      "\n",
      "*** START OF THIS PROJECT GUTENBERG EBOOK PRINCE AND THE PAUPER ***\n",
      "\n",
      "Produced by David Widger. The earliest PG edition was prepared by Les\n",
      "Bowler\n",
      "\n",
      "\n",
      "\n",
      "\n",
      "THE PRINCE AND THE PAUPER\n",
      "\n",
      "by Mark Twain\n",
      "\n",
      "The Great Seal\n",
      "\n",
      "I will set down a tale as it was told to me by one who had it of his\n",
      "father, which latter had it of HIS father, this last having in like\n",
      "manner had it of HIS father--and so on, back and still back, three\n",
      "hundred years and more, the fat\n",
      "________________________________________________________________________________\n",
      "\n",
      "Dataset length: 1267477 characters\n",
      "Number of unique characters: 90\n"
     ]
    }
   ],
   "source": [
    "# Print the first 1000 characters of the dataset\n",
    "print(\"First 1000 characters of the dataset:\")\n",
    "print(80 * '_')\n",
    "print(text[:1000])\n",
    "print(80 * '_')\n",
    "\n",
    "# Report the size of the dataset\n",
    "print(f\"\\nDataset length: {len(text)} characters\")\n",
    "\n",
    "# Calculate the number of unique characters in the dataset\n",
    "unique_chars = set(text)\n",
    "print(f\"Number of unique characters: {len(unique_chars)}\")"
   ]
  },
  {
   "cell_type": "markdown",
   "id": "3ae1639f5ecfe587",
   "metadata": {
    "collapsed": false,
    "id": "3ae1639f5ecfe587"
   },
   "source": [
    "## 1.2 Text Pre-Processing\n",
    "\n",
    "To prepare the dataset for training, we need to clean the text and create a numerical representation the model can interpret. Perform the following pre-processing steps:\n",
    "\n",
    "*   Convert the entire text to lowercase.\n",
    "*   Use the `Tokenizer` class from the `keras.preprocessing.text` module to tokenize the text. You should fit the tokenizer on the text and then convert the text to a sequence of numbers. You can use the `texts_to_sequences` method to do this.\n",
    "\n",
    "**Note**:\n",
    "* You'll need to specify an appropriate size for the vocabulary. The number of words in the list of most common words can serve as a guide - does it seem like a reasonable vocabulary size?\n",
    "* Some of the words will be excluded from the vocabulary, as they don't appear often enough. It's important to provide a value for `oov_token` when creating the Tokenizer instance, so that these words can be represented as \"unknown\"."
   ]
  },
  {
   "cell_type": "code",
   "execution_count": 17,
   "id": "4d0d30cd98ea453c",
   "metadata": {
    "id": "4d0d30cd98ea453c"
   },
   "outputs": [
    {
     "name": "stdout",
     "output_type": "stream",
     "text": [
      "Unique words: 25445\n",
      "Tokenizer has been initialized and fitted on the text.\n"
     ]
    }
   ],
   "source": [
    "from keras.preprocessing.text import Tokenizer\n",
    "\n",
    "# Number of unique words\n",
    "unique_words = set(text.split())\n",
    "print(f\"Unique words: {len(unique_words)}\")\n",
    "\n",
    "# Define the size of the vocabulary. Here, we choose the top 10,000 most common words.\n",
    "VOCAB_SIZE = 10000\n",
    "\n",
    "# Define the Out-Of-Vocabulary (OOV) token to handle rare words\n",
    "OOV_TOKEN = \"<OOV>\"\n",
    "\n",
    "# Initialize the Tokenizer with the specified vocabulary size and OOV token\n",
    "tokenizer = Tokenizer(num_words=VOCAB_SIZE, oov_token=OOV_TOKEN)\n",
    "\n",
    "# Convert the text to lowercase as a standard preprocessing step\n",
    "text_lower = text.lower()\n",
    "\n",
    "# Fit the tokenizer on the text\n",
    "tokenizer.fit_on_texts([text_lower])\n",
    "\n",
    "# Convert the text to a sequence of integers\n",
    "sequences = tokenizer.texts_to_sequences([text_lower])[0]\n",
    "\n",
    "print(\"Tokenizer has been initialized and fitted on the text.\")"
   ]
  },
  {
   "cell_type": "markdown",
   "id": "89d32bb9356f711",
   "metadata": {
    "collapsed": false,
    "id": "89d32bb9356f711"
   },
   "source": [
    "If everything worked, the following line should show you the first 10 words in the vocabulary:"
   ]
  },
  {
   "cell_type": "code",
   "execution_count": 18,
   "id": "6a7cd547a19feece",
   "metadata": {
    "colab": {
     "base_uri": "https://localhost:8080/"
    },
    "id": "6a7cd547a19feece",
    "outputId": "1f52c24c-fe9d-4074-a6b9-2be1b36a172e"
   },
   "outputs": [
    {
     "name": "stdout",
     "output_type": "stream",
     "text": [
      "[('<OOV>', 1), ('the', 2), ('and', 3), ('of', 4), ('a', 5), ('to', 6), ('in', 7), ('was', 8), ('he', 9), ('it', 10)]\n"
     ]
    }
   ],
   "source": [
    "try:\n",
    "    print(list(tokenizer.word_index.items())[:10])\n",
    "except AttributeError:\n",
    "    print(\"Tokenizer has not been initialized. Possible issue: Complete the relevant section of the assignment to initialize it.\"\n",
    ")\n"
   ]
  },
  {
   "cell_type": "markdown",
   "id": "da504e4bc6617613",
   "metadata": {
    "collapsed": false,
    "id": "da504e4bc6617613"
   },
   "source": [
    "## 1.3 Sequence Generation\n",
    "\n",
    "Now that the text has been tokenized, we need to create sequences the model can be trained on. There are two parts to this:\n",
    "\n",
    "*   Use the `texts_to_sequences` method from the tokenizer to convert the text to a list of sequences of numbers.\n",
    "*   Generate the training sequences. Each training sequence should contain `SEQ_LENGTH` token IDs from the text. The target token for each sequence should be the word that follows the sequence in the text."
   ]
  },
  {
   "cell_type": "code",
   "execution_count": 23,
   "id": "4ff5fc8d0273709c",
   "metadata": {
    "id": "4ff5fc8d0273709c"
   },
   "outputs": [
    {
     "name": "stdout",
     "output_type": "stream",
     "text": [
      "Total sequences generated: 231739\n"
     ]
    }
   ],
   "source": [
    "SEQ_LENGTH = 20  # Define the length of each input sequence\n",
    "\n",
    "# Initialize lists to hold input sequences (X) and their corresponding targets (y)\n",
    "X = []\n",
    "y = []\n",
    "\n",
    "# Iterate through the sequences and create input-output pairs\n",
    "for i in range(SEQ_LENGTH, len(sequences)):\n",
    "    # Extract the input sequence of SEQ_LENGTH tokens\n",
    "    seq = sequences[i - SEQ_LENGTH:i]\n",
    "    X.append(seq)\n",
    "    \n",
    "    # The target is the token following the input sequence\n",
    "    target = sequences[i]\n",
    "    y.append(target)\n",
    "\n",
    "print(f\"Total sequences generated: {len(X)}\")"
   ]
  },
  {
   "cell_type": "markdown",
   "id": "3b6bdc0deb930df1",
   "metadata": {
    "collapsed": false,
    "id": "3b6bdc0deb930df1"
   },
   "source": [
    "Assuming your sequences are stored in `X` and the corresponding targets in `y`, the following line should print the first training sequence and its target:"
   ]
  },
  {
   "cell_type": "code",
   "execution_count": 24,
   "id": "a495cab04001ce92",
   "metadata": {
    "colab": {
     "base_uri": "https://localhost:8080/"
    },
    "id": "a495cab04001ce92",
    "outputId": "ecc2c1f4-81d5-4edb-ba86-8c53f86df70b"
   },
   "outputs": [
    {
     "name": "stdout",
     "output_type": "stream",
     "text": [
      "Sequence: [2, 163, 151, 929, 4, 2, 84, 3, 2, 627, 1216, 24, 582, 776, 2261, 2747, 22, 929, 20, 16]\n",
      "Target: 2\n",
      "Translated back to words: ['the', 'project', 'gutenberg', 'ebook', 'of', 'the', 'prince', 'and', 'the', 'pauper', 'complete', 'by', 'mark', 'twain', 'samuel', 'clemens', 'this', 'ebook', 'is', 'for'] -> the\n"
     ]
    }
   ],
   "source": [
    "if len(X) > 0 and len(y) > 0:\n",
    "    print(f'Sequence: {X[0]}\\nTarget: {y[0]}')\n",
    "    print(f'Translated back to words: {[tokenizer.index_word[i] for i in X[0]]} -> {tokenizer.index_word[y[0]]}')\n",
    "else:\n",
    "    print(\"Training sequences have not been generated. Possible issue: Complete the relevant section of the assignment to initialize it.\")\n"
   ]
  },
  {
   "cell_type": "markdown",
   "id": "d5bb2c55da17aaa0",
   "metadata": {
    "collapsed": false,
    "id": "d5bb2c55da17aaa0"
   },
   "source": [
    "And the following code will transform y into a one-hot encoded matrix, and split everything into training and validation sets:"
   ]
  },
  {
   "cell_type": "code",
   "execution_count": 25,
   "id": "3a929b2e6c2cc921",
   "metadata": {
    "colab": {
     "base_uri": "https://localhost:8080/"
    },
    "id": "3a929b2e6c2cc921",
    "outputId": "bbac2f5d-5ec3-40d0-fdd7-c567088569d7"
   },
   "outputs": [
    {
     "name": "stdout",
     "output_type": "stream",
     "text": [
      "X_train shape: (181578, 20)\n",
      "y_train shape: (181578, 10000)\n"
     ]
    }
   ],
   "source": [
    "from sklearn.model_selection import train_test_split\n",
    "from keras.utils import to_categorical\n",
    "import numpy as np\n",
    "\n",
    "# Ensure that tokenizer has been initialized\n",
    "if tokenizer is not None:\n",
    "    # Convert X and y to numpy arrays\n",
    "    X = np.array(X)\n",
    "    y = np.array(y)\n",
    "\n",
    "    # One last thing: let's drop any examples where the target is the OOV token - we don't want our model to predict that (boring!)\n",
    "    if OOV_TOKEN in tokenizer.word_index:\n",
    "        mask = y != tokenizer.word_index[OOV_TOKEN]\n",
    "        X = X[mask]\n",
    "        y = y[mask]\n",
    "\n",
    "    # One-hot encode the target token\n",
    "    y = to_categorical(y, num_classes=VOCAB_SIZE)\n",
    "\n",
    "    # Split the data into training and validation sets\n",
    "    X_train, X_val, y_train, y_val = train_test_split(X, y, test_size=0.2, random_state=42)\n",
    "\n",
    "    print(f'X_train shape: {X_train.shape}')\n",
    "    print(f'y_train shape: {y_train.shape}')\n",
    "else:\n",
    "    print(\"Tokenizer has not been initialized. Please initialize it and load the vocabulary before continuing.\")\n"
   ]
  },
  {
   "cell_type": "markdown",
   "id": "b6e4161897210434",
   "metadata": {
    "collapsed": false,
    "id": "b6e4161897210434"
   },
   "source": [
    "# 2. Model Development (Complete or Incomplete)\n",
    "\n",
    "With the dataset prepared, it's time to develop the RNN model. You'll need to define the architecture of the model, compile it, and prepare it for training.\n",
    "\n",
    "## 2.1 Model Architecture\n",
    "\n",
    "Define the architecture of your RNN model. You can design it however you like, but there are a few features that it's important to include:\n",
    "\n",
    "*   An embedding layer that learns a dense representation of the input tokens. You'll need to specify the input dimension (the size of the vocabulary) and the output dimension (the size of the dense representation). Remember, you can look at the documentation [here](https://keras.io/api/layers/core_layers/embedding/).\n",
    "*   At least one recurrent layer. We have learned how to use LSTM layers in class, but you can use other types of recurrent layers if you prefer. You can find the documentation [here](https://keras.io/api/layers/recurrent_layers/lstm/).\n",
    "*   A dense layer with a softmax activation function. This layer will output a probability distribution over the vocabulary, so that the model can make predictions about the next token."
   ]
  },
  {
   "cell_type": "code",
   "execution_count": 26,
   "id": "9fdfaad93818fc8d",
   "metadata": {
    "colab": {
     "base_uri": "https://localhost:8080/"
    },
    "id": "9fdfaad93818fc8d",
    "outputId": "ae02a273-ab37-4274-d41c-b2c0c80350d6"
   },
   "outputs": [
    {
     "name": "stdout",
     "output_type": "stream",
     "text": [
      "Model: \"sequential\"\n",
      "_________________________________________________________________\n",
      " Layer (type)                Output Shape              Param #   \n",
      "=================================================================\n",
      " embedding (Embedding)       (None, 20, 100)           1000000   \n",
      "                                                                 \n",
      " lstm (LSTM)                 (None, 128)               117248    \n",
      "                                                                 \n",
      " dense (Dense)               (None, 10000)             1290000   \n",
      "                                                                 \n",
      "=================================================================\n",
      "Total params: 2407248 (9.18 MB)\n",
      "Trainable params: 2407248 (9.18 MB)\n",
      "Non-trainable params: 0 (0.00 Byte)\n",
      "_________________________________________________________________\n"
     ]
    }
   ],
   "source": [
    "from keras.models import Sequential\n",
    "from keras.layers import Embedding, LSTM, Dense\n",
    "\n",
    "# Define the Sequential model\n",
    "model = Sequential([\n",
    "    # Embedding layer to convert word indices into dense vectors\n",
    "    Embedding(input_dim=VOCAB_SIZE, output_dim=100, input_length=SEQ_LENGTH),\n",
    "    \n",
    "    # LSTM layer with 128 units to capture temporal dependencies\n",
    "    LSTM(128, return_sequences=False),\n",
    "    \n",
    "    # Dense output layer with softmax activation to predict the next word\n",
    "    Dense(VOCAB_SIZE, activation='softmax')\n",
    "])\n",
    "\n",
    "# Check if the model has layers before trying to print the summary\n",
    "if len(model.layers) > 0:\n",
    "    model.summary()\n",
    "else:\n",
    "    print(\"No layers have been added to the model. Please complete the assignment by adding the required layers.\")"
   ]
  },
  {
   "cell_type": "markdown",
   "id": "2fafd2dbb0d589fc",
   "metadata": {
    "collapsed": false,
    "id": "2fafd2dbb0d589fc"
   },
   "source": [
    "## 2.2 Model Compilation\n",
    "\n",
    "Compile the model with an appropriate loss function and optimizer. You might also want to track additional metrics, such as accuracy.\n",
    "\n",
    "Give a short explanation of your choice of loss function and optimizer:\n",
    "\n",
    "> In this model, we use `categorical_crossentropy` as the **loss function** because we're dealing with a multi-class classification problem where the model predicts the next word from a large vocabulary. The `Adam` **optimizer** is chosen for its efficiency and ability to adapt the learning rate during training, which helps in faster convergence."
   ]
  },
  {
   "cell_type": "code",
   "execution_count": 27,
   "id": "ae4ca7a12051b1fd",
   "metadata": {
    "id": "ae4ca7a12051b1fd"
   },
   "outputs": [
    {
     "name": "stdout",
     "output_type": "stream",
     "text": [
      "Model has been compiled with categorical_crossentropy loss and Adam optimizer.\n"
     ]
    }
   ],
   "source": [
    "# Compile the model with appropriate loss function and optimizer\n",
    "model.compile(\n",
    "    loss='categorical_crossentropy',  # Suitable for multi-class classification\n",
    "    optimizer='adam',                 # Adam optimizer for efficient training\n",
    "    metrics=['accuracy']              # Track accuracy during training\n",
    ")\n",
    "\n",
    "print(\"Model has been compiled with categorical_crossentropy loss and Adam optimizer.\")"
   ]
  },
  {
   "cell_type": "markdown",
   "id": "c2f0b90a448c4f4b",
   "metadata": {
    "collapsed": false,
    "id": "c2f0b90a448c4f4b"
   },
   "source": [
    "## 2.3 Model Training\n",
    "\n",
    "Train the model on the training data you've prepared.\n",
    "\n",
    "* Train your model for 5 epochs with a batch size of 128. Use the validation data for validation.\n",
    "* Store the training history in a variable called `history`."
   ]
  },
  {
   "cell_type": "code",
   "execution_count": 28,
   "id": "256b1ea138c67ef7",
   "metadata": {
    "colab": {
     "base_uri": "https://localhost:8080/"
    },
    "id": "256b1ea138c67ef7",
    "outputId": "fba36993-0bf3-472e-f1c3-1da548c12ead"
   },
   "outputs": [
    {
     "name": "stdout",
     "output_type": "stream",
     "text": [
      "Epoch 1/5\n",
      "1419/1419 [==============================] - 57s 40ms/step - loss: 6.7230 - accuracy: 0.0752 - val_loss: 6.4198 - val_accuracy: 0.0931\n",
      "Epoch 2/5\n",
      "1419/1419 [==============================] - 57s 40ms/step - loss: 6.1462 - accuracy: 0.1085 - val_loss: 6.0724 - val_accuracy: 0.1132\n",
      "Epoch 3/5\n",
      "1419/1419 [==============================] - 59s 41ms/step - loss: 5.7462 - accuracy: 0.1276 - val_loss: 5.8046 - val_accuracy: 0.1285\n",
      "Epoch 4/5\n",
      "1419/1419 [==============================] - 59s 41ms/step - loss: 5.3787 - accuracy: 0.1450 - val_loss: 5.6151 - val_accuracy: 0.1392\n",
      "Epoch 5/5\n",
      "1419/1419 [==============================] - 60s 43ms/step - loss: 5.0631 - accuracy: 0.1607 - val_loss: 5.4805 - val_accuracy: 0.1472\n",
      "Model training complete.\n"
     ]
    }
   ],
   "source": [
    "# Train the model on the training data and validate on the validation set\n",
    "history = model.fit(\n",
    "    X_train, y_train,\n",
    "    epochs=5,                # Train for 5 epochs\n",
    "    batch_size=128,          # Use a batch size of 128\n",
    "    validation_data=(X_val, y_val)  # Validate on the validation set\n",
    ")\n",
    "\n",
    "print(\"Model training complete.\")"
   ]
  },
  {
   "cell_type": "markdown",
   "id": "195c59bf80d2a2c4",
   "metadata": {
    "collapsed": false
   },
   "source": [
    "Plot the training history to visualize the model's learning progress. Your plot should include the training and validation loss."
   ]
  },
  {
   "cell_type": "code",
   "execution_count": 29,
   "id": "9e8cacec70d8f313",
   "metadata": {
    "id": "9e8cacec70d8f313"
   },
   "outputs": [
    {
     "data": {
      "image/png": "[encoded data removed]",
      "text/plain": [
       "<Figure size 1000x600 with 1 Axes>"
      ]
     },
     "metadata": {},
     "output_type": "display_data"
    }
   ],
   "source": [
    "import matplotlib.pyplot as plt\n",
    "\n",
    "# Plot training & validation loss values\n",
    "plt.figure(figsize=(10, 6))\n",
    "plt.plot(history.history['loss'], label='Training Loss')\n",
    "plt.plot(history.history['val_loss'], label='Validation Loss')\n",
    "plt.title('Model Loss Over Epochs')\n",
    "plt.ylabel('Loss')\n",
    "plt.xlabel('Epoch')\n",
    "plt.legend(loc='upper right')\n",
    "plt.grid(True)\n",
    "plt.show()"
   ]
  },
  {
   "cell_type": "markdown",
   "id": "3d9ed71305787aed",
   "metadata": {
    "collapsed": false
   },
   "source": [
    "# 3. Text Generation (Complete or Incomplete)\n",
    "\n",
    "Write a method called `generate_text` that uses the trained model to generate new text. The method should take the following parameters:\n",
    "\n",
    "*   `model`: The trained RNN model.\n",
    "*   `tokenizer`: The tokenizer used to pre-process the text data.\n",
    "*   `seed_text`: The seed text the model will use to generate new text.\n",
    "*   `max_sequence_len`: The maximum length of the sequence used to generate new text.\n",
    "\n",
    "The method should return the generated text.\n",
    "\n",
    "An overview of the text generation process you should follow:\n",
    "\n",
    "1. Tokenize the seed text using the tokenizer we built before.\n",
    "2. Pad the sequences to the same length as the training sequences - you can use the `pad_sequences` method from the `keras.preprocessing.sequence` module, which is documented [here](https://www.tensorflow.org/api_docs/python/tf/keras/preprocessing/sequence/pad_sequences).\n",
    "3. Use the model to predict the next token in the sequence. Remember that the model will output a probability distribution over the vocabulary, so you'll need to use `np.argmax` to find the token with the highest probability.\n",
    "4. Add the predicted token to the sequence and remove the first token.\n",
    "5. Repeat steps 3-4 until you have generated the desired number of tokens.\n",
    "6. Convert the generated token IDs back to words and return the combined result as a single string.\n",
    "\n",
    "This is a challenging task, so don't hesitate to ask for help if you need it. It's okay if the generated text doesn't make much sense yet - we'll work on improving the model next.\n",
    "As a bonus, you can make your method generate \"gpt-style\" by having it print out each word as it's generated, so you can see the text being generated in real time."
   ]
  },
  {
   "cell_type": "code",
   "execution_count": 30,
   "id": "d73dbf278a1265ef",
   "metadata": {
    "collapsed": false
   },
   "outputs": [],
   "source": [
    "from keras.preprocessing.sequence import pad_sequences\n",
    "\n",
    "def get_predicted_word(model, sequence):\n",
    "    \"\"\"\n",
    "    Get the predicted word from the model.\n",
    "    This helper function uses a concept we haven't covered in class yet: temperature.\n",
    "    In essence, a little bit of randomness in what word we predict can make the text more interesting.\n",
    "    \"\"\"\n",
    "    # Use the model to predict the next token in the sequence\n",
    "    yhat = model.predict(sequence, verbose=0)\n",
    "    \n",
    "    # Apply temperature to adjust the probability distribution\n",
    "    temperature = 1.0  # You can experiment with different values\n",
    "    yhat = np.asarray(yhat).astype('float64')\n",
    "    yhat = np.log(yhat + 1e-8) / temperature\n",
    "    yhat = np.exp(yhat) / np.sum(np.exp(yhat))\n",
    "    \n",
    "    # Get the index of the predicted word, according to the probabilities\n",
    "    yhat = np.random.choice(range(VOCAB_SIZE), p=yhat.ravel())\n",
    "    \n",
    "    return yhat\n",
    "\n",
    "def generate_text(model, tokenizer, seed_text, max_sequence_len, num_words=50):\n",
    "    \"\"\"\n",
    "    Generate new text using the trained model.\n",
    "    \n",
    "    Parameters:\n",
    "    - model: The trained RNN model.\n",
    "    - tokenizer: The tokenizer used to pre-process the text data.\n",
    "    - seed_text: The seed text the model will use to generate new text.\n",
    "    - max_sequence_len: The maximum length of the sequence used to generate new text.\n",
    "    - num_words: Number of words to generate.\n",
    "    \n",
    "    Returns:\n",
    "    - The generated text as a single string.\n",
    "    \"\"\"\n",
    "    output_text = seed_text\n",
    "    \n",
    "    for _ in range(num_words):\n",
    "        # Tokenize the seed text\n",
    "        token_list = tokenizer.texts_to_sequences([seed_text])[0]\n",
    "        \n",
    "        # Pad the sequences to the maximum length\n",
    "        token_list = pad_sequences([token_list], maxlen=max_sequence_len, padding='pre')\n",
    "        \n",
    "        # Predict the next word\n",
    "        predicted = get_predicted_word(model, token_list)\n",
    "        \n",
    "        # Get the word from the index\n",
    "        predicted_word = tokenizer.index_word.get(predicted, \"<OOV>\")\n",
    "        \n",
    "        # Append the predicted word to the output text\n",
    "        output_text += \" \" + predicted_word\n",
    "        \n",
    "        # Update the seed text by removing the first word and adding the predicted word\n",
    "        seed_text = ' '.join(output_text.split(' ')[-max_sequence_len:])\n",
    "        \n",
    "        # (Bonus) Print each word as it's generated\n",
    "        print(predicted_word, end=' ', flush=True)\n",
    "    \n",
    "    print()  # For a new line after generation\n",
    "    return output_text"
   ]
  },
  {
   "cell_type": "code",
   "execution_count": 32,
   "id": "f463b0c3df49e2c",
   "metadata": {
    "collapsed": false
   },
   "outputs": [
    {
     "name": "stdout",
     "output_type": "stream",
     "text": [
      "retired for both distributing and watching him approaching outward many chapter x and he asked reverence of all colour and meantime sense of day his face or a moment said “heavens hugh  the rightful king that hath a lie across nearer yes  thy tell me thou contrived for all alleys \n"
     ]
    },
    {
     "data": {
      "text/plain": [
       "'tom retired for both distributing and watching him approaching outward many chapter x and he asked reverence of all colour and meantime sense of day his face or a moment said “heavens hugh \\xa0the rightful king that hath a lie across nearer yes \\xa0thy tell me thou contrived for all alleys'"
      ]
     },
     "execution_count": 32,
     "metadata": {},
     "output_type": "execute_result"
    }
   ],
   "source": [
    "# Test the text generation function\n",
    "generate_text(model, tokenizer, 'tom', SEQ_LENGTH)"
   ]
  },
  {
   "cell_type": "markdown",
   "id": "5871d836a0135c41",
   "metadata": {
    "collapsed": false
   },
   "source": [
    "It's likely that the text generated by your model doesn't make much sense yet. This is because the model hasn't been trained for very long, and the training dataset is relatively small. \n",
    "\n",
    "# 4. Model Refinement (Complete or Incomplete)\n",
    "\n",
    "In this last section, you'll work on improving your model. There are many ways to do this, but here are a few ideas to get you started:\n",
    "\n",
    "* Use pre-trained embeddings: the code below will help you to load pre-trained embeddings through Keras. \n",
    "* Experiment with different model architectures, including the number of layers, the number of units in each layer, and the use of dropout layers.\n",
    "* Train your model for longer. You can also experiment with different batch sizes.\n",
    "\n",
    "Implement and test out at least one of these ideas. If you have other ideas for improving the model, feel free to try them out as well."
   ]
  },
  {
   "cell_type": "code",
   "execution_count": 33,
   "id": "dda8b0f845c20862",
   "metadata": {
    "collapsed": false
   },
   "outputs": [
    {
     "name": "stdout",
     "output_type": "stream",
     "text": [
      "--2024-12-02 09:44:46--  https://downloads.cs.stanford.edu/nlp/data/glove.6B.zip\n",
      "Resolving downloads.cs.stanford.edu (downloads.cs.stanford.edu)... 171.64.64.22\n",
      "Connecting to downloads.cs.stanford.edu (downloads.cs.stanford.edu)|171.64.64.22|:443... connected.\n",
      "HTTP request sent, awaiting response... 200 OK\n",
      "Length: 862182613 (822M) [application/zip]\n",
      "Saving to: ‘glove.6B.zip’\n",
      "\n",
      "glove.6B.zip        100%[===================>] 822.24M  5.03MB/s    in 2m 41s  \n",
      "\n",
      "2024-12-02 09:47:27 (5.12 MB/s) - ‘glove.6B.zip’ saved [862182613/862182613]\n",
      "\n",
      "Archive:  glove.6B.zip\n",
      "  inflating: glove.6B.50d.txt        \n",
      "  inflating: glove.6B.100d.txt       \n",
      "  inflating: glove.6B.200d.txt       \n",
      "  inflating: glove.6B.300d.txt       \n"
     ]
    }
   ],
   "source": [
    "!wget https://downloads.cs.stanford.edu/nlp/data/glove.6B.zip\n",
    "!unzip glove.6B.zip"
   ]
  },
  {
   "cell_type": "code",
   "execution_count": 34,
   "id": "e8b777220505635",
   "metadata": {
    "collapsed": false
   },
   "outputs": [
    {
     "name": "stdout",
     "output_type": "stream",
     "text": [
      "Found 400000 word vectors.\n"
     ]
    }
   ],
   "source": [
    "# Load the pre-trained embeddings\n",
    "embeddings_index = {}\n",
    "try:\n",
    "    with open('glove.6B.100d.txt', encoding='utf-8') as f:\n",
    "        for line in f:\n",
    "            values = line.split()\n",
    "            word = values[0]\n",
    "            coefs = np.asarray(values[1:], dtype='float32')\n",
    "            embeddings_index[word] = coefs\n",
    "    print(f'Found {len(embeddings_index)} word vectors.')\n",
    "except FileNotFoundError:\n",
    "    print(\"'glove.6B.100d.txt' File not found. Please make sure you have ran the previous cell.\")"
   ]
  },
  {
   "cell_type": "code",
   "execution_count": 35,
   "id": "d3e48ff004757cf2",
   "metadata": {
    "collapsed": false
   },
   "outputs": [],
   "source": [
    "# Check if VOCAB_SIZE is set\n",
    "if VOCAB_SIZE is None:\n",
    "    print(\"You need to complete the previous parts of your assignment in order for this to work.\")\n",
    "else:\n",
    "    # Create an embedding matrix\n",
    "    embedding_matrix = np.zeros((VOCAB_SIZE, 100))\n",
    "    for word, i in tokenizer.word_index.items():\n",
    "        if i < VOCAB_SIZE:\n",
    "            embedding_vector = embeddings_index.get(word)\n",
    "            if embedding_vector is not None:\n",
    "                embedding_matrix[i] = embedding_vector"
   ]
  },
  {
   "cell_type": "code",
   "execution_count": 36,
   "id": "e3d21d5dbbbcf9f9",
   "metadata": {
    "collapsed": false
   },
   "outputs": [],
   "source": [
    "# Check if VOCAB_SIZE is set\n",
    "if VOCAB_SIZE is None:\n",
    "    print(\"You need to complete the previous parts of your assignment in order for this to work.\")\n",
    "else:\n",
    "    embedding_layer = Embedding(\n",
    "        VOCAB_SIZE, 100, weights=[embedding_matrix], input_length=SEQ_LENGTH, trainable=False\n",
    "    )"
   ]
  },
  {
   "cell_type": "code",
   "execution_count": 37,
   "id": "236cb723e4e5b3fc",
   "metadata": {
    "collapsed": false
   },
   "outputs": [
    {
     "name": "stdout",
     "output_type": "stream",
     "text": [
      "Model: \"sequential_1\"\n",
      "_________________________________________________________________\n",
      " Layer (type)                Output Shape              Param #   \n",
      "=================================================================\n",
      " embedding_1 (Embedding)     (None, 20, 100)           1000000   \n",
      "                                                                 \n",
      " lstm_1 (LSTM)               (None, 128)               117248    \n",
      "                                                                 \n",
      " dense_1 (Dense)             (None, 10000)             1290000   \n",
      "                                                                 \n",
      "=================================================================\n",
      "Total params: 2407248 (9.18 MB)\n",
      "Trainable params: 1407248 (5.37 MB)\n",
      "Non-trainable params: 1000000 (3.81 MB)\n",
      "_________________________________________________________________\n",
      "Epoch 1/10\n",
      "1419/1419 [==============================] - 50s 35ms/step - loss: 6.7018 - accuracy: 0.0762 - val_loss: 6.3616 - val_accuracy: 0.0922\n",
      "Epoch 2/10\n",
      "1419/1419 [==============================] - 49s 35ms/step - loss: 6.0349 - accuracy: 0.1049 - val_loss: 5.9466 - val_accuracy: 0.1116\n",
      "Epoch 3/10\n",
      "1419/1419 [==============================] - 53s 37ms/step - loss: 5.6026 - accuracy: 0.1209 - val_loss: 5.7155 - val_accuracy: 0.1210\n",
      "Epoch 4/10\n",
      "1419/1419 [==============================] - 51s 36ms/step - loss: 5.2786 - accuracy: 0.1302 - val_loss: 5.5561 - val_accuracy: 0.1282\n",
      "Epoch 5/10\n",
      "1419/1419 [==============================] - 53s 37ms/step - loss: 4.9987 - accuracy: 0.1402 - val_loss: 5.4364 - val_accuracy: 0.1323\n",
      "Epoch 6/10\n",
      "1419/1419 [==============================] - 52s 36ms/step - loss: 4.7491 - accuracy: 0.1517 - val_loss: 5.3457 - val_accuracy: 0.1371\n",
      "Epoch 7/10\n",
      "1419/1419 [==============================] - 52s 37ms/step - loss: 4.5244 - accuracy: 0.1712 - val_loss: 5.2717 - val_accuracy: 0.1410\n",
      "Epoch 8/10\n",
      "1419/1419 [==============================] - 52s 37ms/step - loss: 4.3273 - accuracy: 0.1920 - val_loss: 5.2139 - val_accuracy: 0.1490\n",
      "Epoch 9/10\n",
      "1419/1419 [==============================] - 53s 38ms/step - loss: 4.1560 - accuracy: 0.2125 - val_loss: 5.1612 - val_accuracy: 0.1578\n",
      "Epoch 10/10\n",
      "1419/1419 [==============================] - 53s 37ms/step - loss: 4.0047 - accuracy: 0.2319 - val_loss: 5.1183 - val_accuracy: 0.1698\n",
      "Refined model training complete.\n"
     ]
    }
   ],
   "source": [
    "from keras.models import Sequential\n",
    "from keras.layers import LSTM, Dense\n",
    "\n",
    "# Define a new Sequential model with the embedding layer\n",
    "refined_model = Sequential([\n",
    "    embedding_layer,  # Use the pre-trained embedding layer\n",
    "    LSTM(128, return_sequences=False),  # LSTM layer with 128 units\n",
    "    Dense(VOCAB_SIZE, activation='softmax')  # Output layer\n",
    "])\n",
    "    \n",
    "# Compile the refined model\n",
    "refined_model.compile(\n",
    "    loss='categorical_crossentropy',\n",
    "    optimizer='adam',\n",
    "    metrics=['accuracy']\n",
    ")\n",
    "    \n",
    "# Display the model summary\n",
    "refined_model.summary()\n",
    "    \n",
    "# Train the refined model\n",
    "history_refined = refined_model.fit(\n",
    "    X_train, y_train,\n",
    "    epochs=10,               # Train for more epochs to improve performance\n",
    "    batch_size=128,\n",
    "    validation_data=(X_val, y_val)\n",
    ")\n",
    "    \n",
    "print(\"Refined model training complete.\")\n"
   ]
  },
  {
   "cell_type": "code",
   "execution_count": 38,
   "id": "3ab048b0",
   "metadata": {},
   "outputs": [
    {
     "data": {
      "image/png": "[encoded data removed]",
      "text/plain": [
       "<Figure size 1000x600 with 1 Axes>"
      ]
     },
     "metadata": {},
     "output_type": "display_data"
    }
   ],
   "source": [
    "# for refined model\n",
    "\n",
    "# Plot training & validation loss values\n",
    "plt.figure(figsize=(10, 6))\n",
    "plt.plot(history_refined.history['loss'], label='Training Loss')\n",
    "plt.plot(history_refined.history['val_loss'], label='Validation Loss')\n",
    "plt.title('Model Loss Over Epochs')\n",
    "plt.ylabel('Loss')\n",
    "plt.xlabel('Epoch')\n",
    "plt.legend(loc='upper right')\n",
    "plt.grid(True)\n",
    "plt.show()\n"
   ]
  },
  {
   "cell_type": "code",
   "execution_count": 40,
   "id": "59d1f38f",
   "metadata": {},
   "outputs": [
    {
     "name": "stdout",
     "output_type": "stream",
     "text": [
      "“the reflected down and this other are 8 pageants about “with “tom it to go ' 'all was on a's hall was the mills been by these harmless in that just a solitary somewhere at i was him shudder thought to him emotions that was obliged away from his kingdom \n",
      "\n",
      "Generated Text:\n",
      "tom “the reflected down and this other are 8 pageants about “with “tom it to go ' 'all was on a's hall was the mills been by these harmless in that just a solitary somewhere at i was him shudder thought to him emotions that was obliged away from his kingdom\n"
     ]
    }
   ],
   "source": [
    "# Test the text generation function with a seed word for refined_model\n",
    "generated_text = generate_text(refined_model, tokenizer, 'tom', SEQ_LENGTH, num_words=50)\n",
    "print(\"\\nGenerated Text:\")\n",
    "print(generated_text)\n"
   ]
  },
  {
   "cell_type": "markdown",
   "id": "ec16f072",
   "metadata": {},
   "source": [
    "## Model Performance Comparison\n",
    "\n",
    "I've compared the performance of the **base model** and the **refined model** based on their training logs:\n",
    "\n",
    "### Base Model\n",
    "- **Training Duration**: 5 epochs\n",
    "- **Final Training Loss**: 5.0631\n",
    "- **Final Training Accuracy**: 16.07%\n",
    "- **Final Validation Loss**: 5.4805\n",
    "- **Final Validation Accuracy**: 14.72%\n",
    "\n",
    "### Refined Model\n",
    "- **Training Duration**: 10 epochs\n",
    "- **Final Training Loss**: 4.0047\n",
    "- **Final Training Accuracy**: 23.19%\n",
    "- **Final Validation Loss**: 5.1183\n",
    "- **Final Validation Accuracy**: 16.98%\n",
    "\n",
    "### Observations\n",
    "- **Improved Performance**: The refined model, which incorporates pre-trained GloVe embeddings and is trained for more epochs, shows a noticeable improvement in both training and validation accuracy compared to the base model.\n",
    "- **Reduced Loss**: There's a significant reduction in both training and validation loss, indicating better model learning and generalization.\n",
    "- **Overfitting Check**: While the refined model performs better, the gap between training and validation accuracy suggests that there's still room to mitigate potential overfitting. Further refinements, such as adding dropout layers or increasing the dataset size, might help enhance performance.\n",
    "\n",
    "---\n",
    "\n",
    "Overall, integrating pre-trained embeddings and extending the training duration has positively impacted the model's ability to learn and generalize from the data.\n"
   ]
  },
  {
   "cell_type": "markdown",
   "id": "742095fb",
   "metadata": {},
   "source": [
    "## Criteria\n",
    "\n",
    "|Criteria|Complete|Incomplete|\n",
    "|----|----|----|\n",
    "|Task 1|The task has been completed successfully and there are no errors.|The task is still incomplete and there is at least one error.|\n",
    "|Task 2|The task has been completed successfully and there are no errors.|The task is still incomplete and there is at least one error.|\n",
    "|Task 3|The task has been completed successfully and there are no errors.|The task is still incomplete and there is at least one error.|\n",
    "|Task 4|The task has been completed successfully and there are no errors.|The task is still incomplete and there is at least one error.|"
   ]
  },
  {
   "cell_type": "markdown",
   "id": "1990e2d2",
   "metadata": {},
   "source": [
    "## Submission Information\n",
    "\n",
    "🚨**Please review our [Assignment Submission Guide](https://github.com/UofT-DSI/onboarding/blob/main/onboarding_documents/submissions.md)**🚨 for detailed instructions on how to format, branch, and submit your work. Following these guidelines is crucial for your submissions to be evaluated correctly.\n",
    "\n",
    "### Submission Parameters:\n",
    "* Submission Due Date: `HH:MM AM/PM - DD/MM/YYYY`\n",
    "* The branch name for your repo should be: `assignment-2`\n",
    "* What to submit for this assignment:\n",
    "    * This Jupyter Notebook (assignment_2.ipynb) should be populated and should be the only change in your pull request.\n",
    "* What the pull request link should look like for this assignment: `https://github.com/<your_github_username>/deep_learning/pull/<pr_id>`\n",
    "    * Open a private window in your browser. Copy and paste the link to your pull request into the address bar. Make sure you can see your pull request properly. This helps the technical facilitator and learning support staff review your submission easily.\n",
    "\n",
    "Checklist:\n",
    "- [ ] Created a branch with the correct naming convention.\n",
    "- [ ] Ensured that the repository is public.\n",
    "- [ ] Reviewed the PR description guidelines and adhered to them.\n",
    "- [ ] Verify that the link is accessible in a private browser window.\n",
    "\n",
    "If you encounter any difficulties or have questions, please don't hesitate to reach out to our team via our Slack at `#cohort-3-help`. Our Technical Facilitators and Learning Support staff are here to help you navigate any challenges."
   ]
  }
 ],
 "metadata": {
  "accelerator": "GPU",
  "colab": {
   "gpuType": "T4",
   "provenance": []
  },
  "kernelspec": {
   "display_name": "dsi_participant",
   "language": "python",
   "name": "python3"
  },
  "language_info": {
   "codemirror_mode": {
    "name": "ipython",
    "version": 3
   },
   "file_extension": ".py",
   "mimetype": "text/x-python",
   "name": "python",
   "nbconvert_exporter": "python",
   "pygments_lexer": "ipython3",
   "version": "3.9.19"
  }
 },
 "nbformat": 4,
 "nbformat_minor": 5
}
